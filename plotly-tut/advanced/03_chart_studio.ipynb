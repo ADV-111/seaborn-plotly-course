{
  "nbformat": 4,
  "nbformat_minor": 0,
  "metadata": {
    "colab": {
      "name": "00_tmp.ipynb",
      "provenance": [],
      "include_colab_link": true
    },
    "kernelspec": {
      "name": "python3",
      "display_name": "Python 3"
    }
  },
  "cells": [
    {
      "cell_type": "markdown",
      "metadata": {
        "id": "view-in-github",
        "colab_type": "text"
      },
      "source": [
        "<a href=\"https://colab.research.google.com/github/krakowiakpawel9/seaborn-plotly-course/blob/master/plotly-tut/advanced/03_chart_studio.ipynb\" target=\"_parent\"><img src=\"https://colab.research.google.com/assets/colab-badge.svg\" alt=\"Open In Colab\"/></a>"
      ]
    },
    {
      "cell_type": "markdown",
      "metadata": {
        "id": "ro24fxVMOckd",
        "colab_type": "text"
      },
      "source": [
        "* @author: krakowiakpawel9@gmail.com  \n",
        "* @site: e-smartdata.org"
      ]
    },
    {
      "cell_type": "code",
      "metadata": {
        "id": "KjnDXSt17WNN",
        "colab_type": "code",
        "outputId": "d99f827f-a3e2-4fc2-cd76-049cae428922",
        "colab": {
          "base_uri": "https://localhost:8080/",
          "height": 51
        }
      },
      "source": [
        "!pip install -q chart_studio\n",
        "!pip install -q --upgrade plotly"
      ],
      "execution_count": 0,
      "outputs": [
        {
          "output_type": "stream",
          "text": [
            "\u001b[K     |████████████████████████████████| 81kB 5.4MB/s \n",
            "\u001b[K     |████████████████████████████████| 7.1MB 4.7MB/s \n",
            "\u001b[?25h"
          ],
          "name": "stdout"
        }
      ]
    },
    {
      "cell_type": "code",
      "metadata": {
        "id": "Tv-4CDSqbGSL",
        "colab_type": "code",
        "outputId": "5367b96a-ecc4-4214-8882-9c0c5b46b9e9",
        "colab": {
          "base_uri": "https://localhost:8080/",
          "height": 546
        }
      },
      "source": [
        "import chart_studio.tools as tls\n",
        "\n",
        "tls.embed('https://plot.ly/~krakowiakpawel9/19/font-color-4d5663/')"
      ],
      "execution_count": 0,
      "outputs": [
        {
          "output_type": "execute_result",
          "data": {
            "text/html": [
              "\n",
              "        <iframe\n",
              "            width=\"100%\"\n",
              "            height=\"525\"\n",
              "            src=\"https://plot.ly/~krakowiakpawel9/19.embed\"\n",
              "            frameborder=\"0\"\n",
              "            allowfullscreen\n",
              "        ></iframe>\n",
              "        "
            ],
            "text/plain": [
              "<IPython.lib.display.IFrame at 0x7f71ff708f60>"
            ]
          },
          "metadata": {
            "tags": []
          },
          "execution_count": 3
        }
      ]
    },
    {
      "cell_type": "code",
      "metadata": {
        "id": "4pxmZEBnc4Zg",
        "colab_type": "code",
        "outputId": "f9bf72dc-be07-40e6-f3f6-0befbc4bee10",
        "colab": {
          "base_uri": "https://localhost:8080/",
          "height": 546
        }
      },
      "source": [
        "import chart_studio.tools as tls\n",
        "import chart_studio.plotly as py\n",
        "import plotly.graph_objects as go\n",
        "\n",
        "tls.set_credentials_file(username='krakowiakpawel9', api_key='IQzzmPQv5FOopavx5Y3J')\n",
        "\n",
        "trace0 = go.Scatter(x=[1, 2, 3, 4],\n",
        "                   y=[5, 5, 10, 15])\n",
        "\n",
        "data = [trace0]\n",
        "\n",
        "fig = go.Figure(data=data)\n",
        "\n",
        "py.iplot(fig, filename='first')"
      ],
      "execution_count": 0,
      "outputs": [
        {
          "output_type": "execute_result",
          "data": {
            "text/html": [
              "\n",
              "        <iframe\n",
              "            width=\"100%\"\n",
              "            height=\"525px\"\n",
              "            src=\"https://plot.ly/~krakowiakpawel9/37.embed\"\n",
              "            frameborder=\"0\"\n",
              "            allowfullscreen\n",
              "        ></iframe>\n",
              "        "
            ],
            "text/plain": [
              "<IPython.lib.display.IFrame at 0x7f71da9aca58>"
            ]
          },
          "metadata": {
            "tags": []
          },
          "execution_count": 10
        }
      ]
    }
  ]
}